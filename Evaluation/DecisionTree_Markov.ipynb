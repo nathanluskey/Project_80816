{
 "cells": [
  {
   "attachments": {},
   "cell_type": "markdown",
   "metadata": {},
   "source": [
    "## Setup"
   ]
  },
  {
   "cell_type": "code",
   "execution_count": 1,
   "metadata": {},
   "outputs": [],
   "source": [
    "import pandas as pd\n",
    "import numpy as np\n",
    "\n",
    "from sklearn import tree\n",
    "from sklearn.model_selection import cross_val_score\n",
    "from sklearn.metrics import accuracy_score\n",
    "\n",
    "import graphviz \n",
    "\n",
    "from typing import List, Tuple\n",
    "import os"
   ]
  },
  {
   "cell_type": "code",
   "execution_count": 2,
   "metadata": {},
   "outputs": [],
   "source": [
    "# Get File Paths\n",
    "# google_drive_path = \"/Users/andrewstange/Desktop/CMU/Spring_2023/80-816/project/Project_80816/data\"\n",
    "google_drive_path = \"/Users/nathanluskey/Library/CloudStorage/GoogleDrive-nluskey@andrew.cmu.edu/My Drive/80816_Project/Data/\"\n",
    "\n",
    "# train_filename = \"ChurnForBankCustomers_optbinning_train.csv\"\n",
    "# test_filename = \"ChurnForBankCustomers_optbinning_test.csv\"\n",
    "\n",
    "train_filename = \"ChurnForBankCustomers_train.csv\"\n",
    "test_filename = \"ChurnForBankCustomers_test.csv\"\n",
    "\n",
    "train_full_filename = os.path.join(google_drive_path, train_filename)\n",
    "test_full_filename = os.path.join(google_drive_path, test_filename)\n",
    "\n",
    "assert os.path.isfile(train_full_filename)\n",
    "assert os.path.isfile(test_full_filename)"
   ]
  },
  {
   "cell_type": "code",
   "execution_count": 3,
   "metadata": {},
   "outputs": [
    {
     "data": {
      "text/plain": [
       "CreditScore          int64\n",
       "Geography           object\n",
       "Gender              object\n",
       "Age                  int64\n",
       "Tenure               int64\n",
       "Balance            float64\n",
       "NumOfProducts        int64\n",
       "HasCrCard             bool\n",
       "IsActiveMember        bool\n",
       "EstimatedSalary    float64\n",
       "Exited                bool\n",
       "dtype: object"
      ]
     },
     "metadata": {},
     "output_type": "display_data"
    },
    {
     "data": {
      "text/html": [
       "<div>\n",
       "<style scoped>\n",
       "    .dataframe tbody tr th:only-of-type {\n",
       "        vertical-align: middle;\n",
       "    }\n",
       "\n",
       "    .dataframe tbody tr th {\n",
       "        vertical-align: top;\n",
       "    }\n",
       "\n",
       "    .dataframe thead th {\n",
       "        text-align: right;\n",
       "    }\n",
       "</style>\n",
       "<table border=\"1\" class=\"dataframe\">\n",
       "  <thead>\n",
       "    <tr style=\"text-align: right;\">\n",
       "      <th></th>\n",
       "      <th>CreditScore</th>\n",
       "      <th>Geography</th>\n",
       "      <th>Gender</th>\n",
       "      <th>Age</th>\n",
       "      <th>Tenure</th>\n",
       "      <th>Balance</th>\n",
       "      <th>NumOfProducts</th>\n",
       "      <th>HasCrCard</th>\n",
       "      <th>IsActiveMember</th>\n",
       "      <th>EstimatedSalary</th>\n",
       "      <th>Exited</th>\n",
       "    </tr>\n",
       "  </thead>\n",
       "  <tbody>\n",
       "    <tr>\n",
       "      <th>0</th>\n",
       "      <td>751</td>\n",
       "      <td>France</td>\n",
       "      <td>Male</td>\n",
       "      <td>29</td>\n",
       "      <td>1</td>\n",
       "      <td>135536.50</td>\n",
       "      <td>1</td>\n",
       "      <td>True</td>\n",
       "      <td>False</td>\n",
       "      <td>66825.33</td>\n",
       "      <td>False</td>\n",
       "    </tr>\n",
       "    <tr>\n",
       "      <th>1</th>\n",
       "      <td>605</td>\n",
       "      <td>France</td>\n",
       "      <td>Female</td>\n",
       "      <td>30</td>\n",
       "      <td>9</td>\n",
       "      <td>135422.31</td>\n",
       "      <td>1</td>\n",
       "      <td>False</td>\n",
       "      <td>True</td>\n",
       "      <td>186418.85</td>\n",
       "      <td>False</td>\n",
       "    </tr>\n",
       "    <tr>\n",
       "      <th>2</th>\n",
       "      <td>567</td>\n",
       "      <td>France</td>\n",
       "      <td>Male</td>\n",
       "      <td>42</td>\n",
       "      <td>2</td>\n",
       "      <td>0.00</td>\n",
       "      <td>2</td>\n",
       "      <td>True</td>\n",
       "      <td>True</td>\n",
       "      <td>167984.61</td>\n",
       "      <td>False</td>\n",
       "    </tr>\n",
       "    <tr>\n",
       "      <th>3</th>\n",
       "      <td>665</td>\n",
       "      <td>Germany</td>\n",
       "      <td>Female</td>\n",
       "      <td>37</td>\n",
       "      <td>3</td>\n",
       "      <td>111911.63</td>\n",
       "      <td>1</td>\n",
       "      <td>True</td>\n",
       "      <td>True</td>\n",
       "      <td>110359.68</td>\n",
       "      <td>True</td>\n",
       "    </tr>\n",
       "    <tr>\n",
       "      <th>4</th>\n",
       "      <td>682</td>\n",
       "      <td>Spain</td>\n",
       "      <td>Female</td>\n",
       "      <td>58</td>\n",
       "      <td>4</td>\n",
       "      <td>0.00</td>\n",
       "      <td>1</td>\n",
       "      <td>True</td>\n",
       "      <td>False</td>\n",
       "      <td>176036.01</td>\n",
       "      <td>False</td>\n",
       "    </tr>\n",
       "  </tbody>\n",
       "</table>\n",
       "</div>"
      ],
      "text/plain": [
       "   CreditScore Geography  Gender  Age  Tenure    Balance  NumOfProducts   \n",
       "0          751    France    Male   29       1  135536.50              1  \\\n",
       "1          605    France  Female   30       9  135422.31              1   \n",
       "2          567    France    Male   42       2       0.00              2   \n",
       "3          665   Germany  Female   37       3  111911.63              1   \n",
       "4          682     Spain  Female   58       4       0.00              1   \n",
       "\n",
       "   HasCrCard  IsActiveMember  EstimatedSalary  Exited  \n",
       "0       True           False         66825.33   False  \n",
       "1      False            True        186418.85   False  \n",
       "2       True            True        167984.61   False  \n",
       "3       True            True        110359.68    True  \n",
       "4       True           False        176036.01   False  "
      ]
     },
     "metadata": {},
     "output_type": "display_data"
    }
   ],
   "source": [
    "# Convert dataframe to numpy array\n",
    "df_train = pd.read_csv(train_full_filename)\n",
    "df_test = pd.read_csv(test_full_filename)\n",
    "display(df_train.dtypes)\n",
    "display(df_train.head(5))"
   ]
  },
  {
   "cell_type": "code",
   "execution_count": 4,
   "metadata": {},
   "outputs": [],
   "source": [
    "def ohe_df(df: pd.DataFrame) -> Tuple[pd.DataFrame, dict]:\n",
    "    col_former_to_new = dict()\n",
    "    for col in df.columns:\n",
    "        curr_data = df[col]\n",
    "        if curr_data.dtype == \"object\":\n",
    "            one_hot = pd.get_dummies(curr_data)\n",
    "            df = df.drop(col, axis=1)\n",
    "            df = df.join(one_hot)\n",
    "            col_former_to_new[col] = one_hot.columns\n",
    "    return df, col_former_to_new\n",
    "\n",
    "def convert_columns(input_list: List[str], col_former_to_new: dict) -> List[str]:\n",
    "    # Convert to new columns\n",
    "    new_list = []\n",
    "    for col in input_list:\n",
    "        new_col = col_former_to_new.get(col, [col])\n",
    "        new_list.extend(new_col)\n",
    "    return new_list"
   ]
  },
  {
   "cell_type": "code",
   "execution_count": 5,
   "metadata": {},
   "outputs": [
    {
     "data": {
      "text/plain": [
       "CreditScore          int64\n",
       "Age                  int64\n",
       "Tenure               int64\n",
       "Balance            float64\n",
       "NumOfProducts        int64\n",
       "HasCrCard             bool\n",
       "IsActiveMember        bool\n",
       "EstimatedSalary    float64\n",
       "Exited                bool\n",
       "France                bool\n",
       "Germany               bool\n",
       "Spain                 bool\n",
       "Female                bool\n",
       "Male                  bool\n",
       "dtype: object"
      ]
     },
     "metadata": {},
     "output_type": "display_data"
    },
    {
     "data": {
      "text/html": [
       "<div>\n",
       "<style scoped>\n",
       "    .dataframe tbody tr th:only-of-type {\n",
       "        vertical-align: middle;\n",
       "    }\n",
       "\n",
       "    .dataframe tbody tr th {\n",
       "        vertical-align: top;\n",
       "    }\n",
       "\n",
       "    .dataframe thead th {\n",
       "        text-align: right;\n",
       "    }\n",
       "</style>\n",
       "<table border=\"1\" class=\"dataframe\">\n",
       "  <thead>\n",
       "    <tr style=\"text-align: right;\">\n",
       "      <th></th>\n",
       "      <th>CreditScore</th>\n",
       "      <th>Age</th>\n",
       "      <th>Tenure</th>\n",
       "      <th>Balance</th>\n",
       "      <th>NumOfProducts</th>\n",
       "      <th>HasCrCard</th>\n",
       "      <th>IsActiveMember</th>\n",
       "      <th>EstimatedSalary</th>\n",
       "      <th>Exited</th>\n",
       "      <th>France</th>\n",
       "      <th>Germany</th>\n",
       "      <th>Spain</th>\n",
       "      <th>Female</th>\n",
       "      <th>Male</th>\n",
       "    </tr>\n",
       "  </thead>\n",
       "  <tbody>\n",
       "    <tr>\n",
       "      <th>0</th>\n",
       "      <td>751</td>\n",
       "      <td>29</td>\n",
       "      <td>1</td>\n",
       "      <td>135536.50</td>\n",
       "      <td>1</td>\n",
       "      <td>True</td>\n",
       "      <td>False</td>\n",
       "      <td>66825.33</td>\n",
       "      <td>False</td>\n",
       "      <td>True</td>\n",
       "      <td>False</td>\n",
       "      <td>False</td>\n",
       "      <td>False</td>\n",
       "      <td>True</td>\n",
       "    </tr>\n",
       "    <tr>\n",
       "      <th>1</th>\n",
       "      <td>605</td>\n",
       "      <td>30</td>\n",
       "      <td>9</td>\n",
       "      <td>135422.31</td>\n",
       "      <td>1</td>\n",
       "      <td>False</td>\n",
       "      <td>True</td>\n",
       "      <td>186418.85</td>\n",
       "      <td>False</td>\n",
       "      <td>True</td>\n",
       "      <td>False</td>\n",
       "      <td>False</td>\n",
       "      <td>True</td>\n",
       "      <td>False</td>\n",
       "    </tr>\n",
       "    <tr>\n",
       "      <th>2</th>\n",
       "      <td>567</td>\n",
       "      <td>42</td>\n",
       "      <td>2</td>\n",
       "      <td>0.00</td>\n",
       "      <td>2</td>\n",
       "      <td>True</td>\n",
       "      <td>True</td>\n",
       "      <td>167984.61</td>\n",
       "      <td>False</td>\n",
       "      <td>True</td>\n",
       "      <td>False</td>\n",
       "      <td>False</td>\n",
       "      <td>False</td>\n",
       "      <td>True</td>\n",
       "    </tr>\n",
       "    <tr>\n",
       "      <th>3</th>\n",
       "      <td>665</td>\n",
       "      <td>37</td>\n",
       "      <td>3</td>\n",
       "      <td>111911.63</td>\n",
       "      <td>1</td>\n",
       "      <td>True</td>\n",
       "      <td>True</td>\n",
       "      <td>110359.68</td>\n",
       "      <td>True</td>\n",
       "      <td>False</td>\n",
       "      <td>True</td>\n",
       "      <td>False</td>\n",
       "      <td>True</td>\n",
       "      <td>False</td>\n",
       "    </tr>\n",
       "    <tr>\n",
       "      <th>4</th>\n",
       "      <td>682</td>\n",
       "      <td>58</td>\n",
       "      <td>4</td>\n",
       "      <td>0.00</td>\n",
       "      <td>1</td>\n",
       "      <td>True</td>\n",
       "      <td>False</td>\n",
       "      <td>176036.01</td>\n",
       "      <td>False</td>\n",
       "      <td>False</td>\n",
       "      <td>False</td>\n",
       "      <td>True</td>\n",
       "      <td>True</td>\n",
       "      <td>False</td>\n",
       "    </tr>\n",
       "  </tbody>\n",
       "</table>\n",
       "</div>"
      ],
      "text/plain": [
       "   CreditScore  Age  Tenure    Balance  NumOfProducts  HasCrCard   \n",
       "0          751   29       1  135536.50              1       True  \\\n",
       "1          605   30       9  135422.31              1      False   \n",
       "2          567   42       2       0.00              2       True   \n",
       "3          665   37       3  111911.63              1       True   \n",
       "4          682   58       4       0.00              1       True   \n",
       "\n",
       "   IsActiveMember  EstimatedSalary  Exited  France  Germany  Spain  Female   \n",
       "0           False         66825.33   False    True    False  False   False  \\\n",
       "1            True        186418.85   False    True    False  False    True   \n",
       "2            True        167984.61   False    True    False  False   False   \n",
       "3            True        110359.68    True   False     True  False    True   \n",
       "4           False        176036.01   False   False    False   True    True   \n",
       "\n",
       "    Male  \n",
       "0   True  \n",
       "1  False  \n",
       "2   True  \n",
       "3  False  \n",
       "4  False  "
      ]
     },
     "metadata": {},
     "output_type": "display_data"
    }
   ],
   "source": [
    "df_train, col_former_to_new = ohe_df(df_train)\n",
    "df_test, _ = ohe_df(df_test)\n",
    "\n",
    "display(df_train.dtypes)\n",
    "display(df_train.head(5))"
   ]
  },
  {
   "attachments": {},
   "cell_type": "markdown",
   "metadata": {},
   "source": [
    "## Evaluate Naive Bayes Classifier using Exited Markov Blanket"
   ]
  },
  {
   "cell_type": "code",
   "execution_count": 6,
   "metadata": {},
   "outputs": [],
   "source": [
    "all_results = pd.DataFrame()"
   ]
  },
  {
   "cell_type": "code",
   "execution_count": 7,
   "metadata": {},
   "outputs": [],
   "source": [
    "def filter_dt(df_train: pd.DataFrame, df_test: pd.DataFrame, markov_blanket: List[str]) -> Tuple[np.ndarray, np.ndarray]:\n",
    "    # Filter Markov Blanket: drop all columns not in the Markov Blanket of 'Exited'\n",
    "    df_train = df_train.filter(markov_blanket + [\"Exited\"])\n",
    "\n",
    "    # 5-fold cross validation of Decision Tree\n",
    "    X_train = df_train.drop('Exited', axis=1).to_numpy()\n",
    "    y_train = df_train['Exited'].to_numpy()\n",
    "    train_scores = cross_val_score(tree.DecisionTreeClassifier(random_state=80816), X_train, y_train)\n",
    "\n",
    "    # Filter Markov Blanket: drop all columns not in the Markov Blanket of 'Exited'\n",
    "    df_test = df_test.filter(markov_blanket + [\"Exited\"])\n",
    "    X_test = df_test.drop('Exited', axis=1).to_numpy()\n",
    "    y_test = df_test['Exited'].to_numpy()\n",
    "\n",
    "    # Train on training data and then test on testing data\n",
    "    dt = tree.DecisionTreeClassifier(random_state=80816)\n",
    "    dt.fit(X_train, y_train)\n",
    "    y_pred = dt.predict(X_test)\n",
    "    test_score = accuracy_score(y_test, y_pred)\n",
    "\n",
    "\n",
    "    return train_scores, test_score, dt\n",
    "\n",
    "def save_scores(algo: str, train_accs: np.ndarray, test_acc: float, all_results: pd.DataFrame) -> pd.DataFrame:\n",
    "    new_row = pd.DataFrame()\n",
    "    new_row[\"algorithm\"] = [algo]\n",
    "\n",
    "    new_row[\"test_acc\"] = [test_acc]\n",
    "\n",
    "    new_row[\"train_acc_avg\"] = [np.mean(train_accs)]\n",
    "    new_row[\"train_accs_var\"] = [np.var(train_accs)]\n",
    "\n",
    "    for i, score in enumerate(train_accs):\n",
    "        new_row[f\"train_acc_{i+1}\"] = [score]\n",
    "\n",
    "    all_results = pd.concat([all_results, new_row], ignore_index=True)\n",
    "    return all_results"
   ]
  },
  {
   "cell_type": "code",
   "execution_count": 8,
   "metadata": {},
   "outputs": [
    {
     "name": "stdout",
     "output_type": "stream",
     "text": [
      "Cross Validation Acc: [0.779375 0.8025   0.786875 0.819375 0.8     ]\n",
      "Test Acc: 0.7925\n"
     ]
    }
   ],
   "source": [
    "# All variables\n",
    "all_vars = df_train.columns.to_list()\n",
    "all_vars.remove('Exited')\n",
    "scores, acc, dt_all = filter_dt(df_train, df_test, all_vars)\n",
    "print(f\"Cross Validation Acc: {scores}\\nTest Acc: {acc}\")\n",
    "\n",
    "all_results = save_scores(\"None\", scores, acc, all_results)"
   ]
  },
  {
   "cell_type": "code",
   "execution_count": 9,
   "metadata": {},
   "outputs": [
    {
     "name": "stdout",
     "output_type": "stream",
     "text": [
      "Cross Validation Acc: [0.80625  0.816875 0.814375 0.81625  0.80875 ]\n",
      "Test Acc: 0.8165\n"
     ]
    }
   ],
   "source": [
    "# PC Markov Blanket\n",
    "pc_blanket = ['Age', 'IsActiveMember', 'Gender', 'Balance', 'Geography', 'NumOfProducts']\n",
    "pc_blanket = convert_columns(pc_blanket, col_former_to_new)\n",
    "\n",
    "scores, acc, dt_PC = filter_dt(df_train, df_test, pc_blanket)\n",
    "print(f\"Cross Validation Acc: {scores}\\nTest Acc: {acc}\")\n",
    "\n",
    "all_results = save_scores(\"PC\", scores, acc, all_results)"
   ]
  },
  {
   "cell_type": "code",
   "execution_count": 10,
   "metadata": {},
   "outputs": [
    {
     "name": "stdout",
     "output_type": "stream",
     "text": [
      "Cross Validation Acc: [0.80625  0.816875 0.814375 0.81625  0.80875 ]\n",
      "Test Acc: 0.8165\n"
     ]
    }
   ],
   "source": [
    "# FCI Markov Blanket\n",
    "fci_blanket = ['Age', 'IsActiveMember', 'Gender', 'Balance', 'Geography', 'NumOfProducts']\n",
    "fci_blanket = convert_columns(fci_blanket, col_former_to_new)\n",
    "\n",
    "scores, acc, dt_FCI = filter_dt(df_train, df_test, fci_blanket)\n",
    "print(f\"Cross Validation Acc: {scores}\\nTest Acc: {acc}\")\n",
    "\n",
    "all_results = save_scores(\"FCI\", scores, acc, all_results)"
   ]
  },
  {
   "cell_type": "code",
   "execution_count": 11,
   "metadata": {},
   "outputs": [
    {
     "name": "stdout",
     "output_type": "stream",
     "text": [
      "Cross Validation Acc: [0.839375 0.843125 0.83625  0.85125  0.835   ]\n",
      "Test Acc: 0.8605\n"
     ]
    }
   ],
   "source": [
    "# GES Markov Blanket\n",
    "ges_blanket = ['Age', 'IsActiveMember', 'Gender', 'Geography', 'NumOfProducts']\n",
    "ges_blanket = convert_columns(ges_blanket, col_former_to_new)\n",
    "\n",
    "scores, acc, dt_GES = filter_dt(df_train, df_test, ges_blanket)\n",
    "print(f\"Cross Validation Acc: {scores}\\nTest Acc: {acc}\")\n",
    "\n",
    "all_results = save_scores(\"GES\", scores, acc, all_results)"
   ]
  },
  {
   "attachments": {},
   "cell_type": "markdown",
   "metadata": {},
   "source": [
    "## Evaluate using Parents"
   ]
  },
  {
   "cell_type": "code",
   "execution_count": 12,
   "metadata": {},
   "outputs": [
    {
     "name": "stdout",
     "output_type": "stream",
     "text": [
      "Cross Validation Acc: [0.823125 0.825625 0.829375 0.83625  0.82    ]\n",
      "Test Acc: 0.831\n"
     ]
    }
   ],
   "source": [
    "# GES Parents\n",
    "ges_parents = ['Age', 'IsActiveMember']\n",
    "ges_parents = convert_columns(ges_parents, col_former_to_new)\n",
    "\n",
    "scores, acc, dt_GES_parents = filter_dt(df_train, df_test, ges_parents)\n",
    "print(f\"Cross Validation Acc: {scores}\\nTest Acc: {acc}\")\n",
    "\n",
    "all_results = save_scores(\"GES (parents)\", scores, acc, all_results)"
   ]
  },
  {
   "cell_type": "code",
   "execution_count": 13,
   "metadata": {},
   "outputs": [],
   "source": [
    "all_results.to_csv(\"DecisionTrees_results.csv\", index=False)"
   ]
  },
  {
   "attachments": {},
   "cell_type": "markdown",
   "metadata": {},
   "source": [
    "## Visualization"
   ]
  },
  {
   "cell_type": "code",
   "execution_count": 14,
   "metadata": {},
   "outputs": [
    {
     "name": "stderr",
     "output_type": "stream",
     "text": [
      "dot: graph is too large for cairo-renderer bitmaps. Scaling by 0.523493 to fit\n"
     ]
    },
    {
     "data": {
      "text/plain": [
       "'DecisionTrees/all_data.png'"
      ]
     },
     "execution_count": 14,
     "metadata": {},
     "output_type": "execute_result"
    }
   ],
   "source": [
    "dot_data = tree.export_graphviz(dt_all, out_file=None, \n",
    "                      feature_names=all_vars,  \n",
    "                      class_names=['Exited', 'Stayed'],  \n",
    "                      filled=True, rounded=True,  \n",
    "                      special_characters=True)  \n",
    "graph = graphviz.Source(dot_data)  \n",
    "graph.render(filename=\"all_data\", directory=\"./DecisionTrees\", view=False, format=\"png\")\n"
   ]
  },
  {
   "cell_type": "code",
   "execution_count": 15,
   "metadata": {},
   "outputs": [
    {
     "name": "stderr",
     "output_type": "stream",
     "text": [
      "dot: graph is too large for cairo-renderer bitmaps. Scaling by 0.411796 to fit\n"
     ]
    },
    {
     "data": {
      "text/plain": [
       "'DecisionTrees/PC.png'"
      ]
     },
     "execution_count": 15,
     "metadata": {},
     "output_type": "execute_result"
    }
   ],
   "source": [
    "dot_data = tree.export_graphviz(dt_PC, out_file=None, \n",
    "                      feature_names=pc_blanket,  \n",
    "                      class_names=['Exited', 'Stayed'],  \n",
    "                      filled=True, rounded=True,  \n",
    "                      special_characters=True)  \n",
    "graph = graphviz.Source(dot_data)  \n",
    "graph.render(filename=\"PC\", directory=\"./DecisionTrees\", view=False, format=\"png\")"
   ]
  }
 ],
 "metadata": {
  "kernelspec": {
   "display_name": "causal_env",
   "language": "python",
   "name": "python3"
  },
  "language_info": {
   "codemirror_mode": {
    "name": "ipython",
    "version": 3
   },
   "file_extension": ".py",
   "mimetype": "text/x-python",
   "name": "python",
   "nbconvert_exporter": "python",
   "pygments_lexer": "ipython3",
   "version": "3.11.0"
  },
  "orig_nbformat": 4
 },
 "nbformat": 4,
 "nbformat_minor": 2
}
