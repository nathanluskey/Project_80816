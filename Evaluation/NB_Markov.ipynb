{
 "cells": [
  {
   "attachments": {},
   "cell_type": "markdown",
   "metadata": {},
   "source": [
    "## Setup"
   ]
  },
  {
   "cell_type": "code",
   "execution_count": 1,
   "metadata": {},
   "outputs": [],
   "source": [
    "import pandas as pd\n",
    "import numpy as np\n",
    "\n",
    "import os\n",
    "from sklearn.naive_bayes import MultinomialNB\n",
    "from sklearn.model_selection import cross_val_score\n",
    "from sklearn.metrics import accuracy_score\n",
    "from typing import List, Tuple"
   ]
  },
  {
   "cell_type": "code",
   "execution_count": 2,
   "metadata": {},
   "outputs": [],
   "source": [
    "# Get File Paths\n",
    "# google_drive_path = \"/Users/andrewstange/Desktop/CMU/Spring_2023/80-816/project/Project_80816/data\"\n",
    "google_drive_path = \"/Users/nathanluskey/Library/CloudStorage/GoogleDrive-nluskey@andrew.cmu.edu/My Drive/80816_Project/Data/\"\n",
    "\n",
    "train_filename = \"ChurnForBankCustomers_optbinning_train.csv\"\n",
    "test_filename = \"ChurnForBankCustomers_optbinning_test.csv\"\n",
    "\n",
    "train_full_filename = os.path.join(google_drive_path, train_filename)\n",
    "test_full_filename = os.path.join(google_drive_path, test_filename)\n",
    "\n",
    "assert os.path.isfile(train_full_filename)\n",
    "assert os.path.isfile(test_full_filename)"
   ]
  },
  {
   "cell_type": "code",
   "execution_count": 3,
   "metadata": {},
   "outputs": [
    {
     "data": {
      "text/plain": [
       "CreditScore         int64\n",
       "Geography          object\n",
       "Gender             object\n",
       "Age                 int64\n",
       "Tenure              int64\n",
       "Balance             int64\n",
       "NumOfProducts       int64\n",
       "HasCrCard            bool\n",
       "IsActiveMember       bool\n",
       "EstimatedSalary     int64\n",
       "Exited               bool\n",
       "dtype: object"
      ]
     },
     "metadata": {},
     "output_type": "display_data"
    },
    {
     "data": {
      "text/html": [
       "<div>\n",
       "<style scoped>\n",
       "    .dataframe tbody tr th:only-of-type {\n",
       "        vertical-align: middle;\n",
       "    }\n",
       "\n",
       "    .dataframe tbody tr th {\n",
       "        vertical-align: top;\n",
       "    }\n",
       "\n",
       "    .dataframe thead th {\n",
       "        text-align: right;\n",
       "    }\n",
       "</style>\n",
       "<table border=\"1\" class=\"dataframe\">\n",
       "  <thead>\n",
       "    <tr style=\"text-align: right;\">\n",
       "      <th></th>\n",
       "      <th>CreditScore</th>\n",
       "      <th>Geography</th>\n",
       "      <th>Gender</th>\n",
       "      <th>Age</th>\n",
       "      <th>Tenure</th>\n",
       "      <th>Balance</th>\n",
       "      <th>NumOfProducts</th>\n",
       "      <th>HasCrCard</th>\n",
       "      <th>IsActiveMember</th>\n",
       "      <th>EstimatedSalary</th>\n",
       "      <th>Exited</th>\n",
       "    </tr>\n",
       "  </thead>\n",
       "  <tbody>\n",
       "    <tr>\n",
       "      <th>0</th>\n",
       "      <td>7</td>\n",
       "      <td>France</td>\n",
       "      <td>Male</td>\n",
       "      <td>1</td>\n",
       "      <td>0</td>\n",
       "      <td>5</td>\n",
       "      <td>0</td>\n",
       "      <td>True</td>\n",
       "      <td>False</td>\n",
       "      <td>1</td>\n",
       "      <td>False</td>\n",
       "    </tr>\n",
       "    <tr>\n",
       "      <th>1</th>\n",
       "      <td>2</td>\n",
       "      <td>France</td>\n",
       "      <td>Female</td>\n",
       "      <td>1</td>\n",
       "      <td>5</td>\n",
       "      <td>5</td>\n",
       "      <td>0</td>\n",
       "      <td>False</td>\n",
       "      <td>True</td>\n",
       "      <td>5</td>\n",
       "      <td>False</td>\n",
       "    </tr>\n",
       "    <tr>\n",
       "      <th>2</th>\n",
       "      <td>2</td>\n",
       "      <td>France</td>\n",
       "      <td>Male</td>\n",
       "      <td>6</td>\n",
       "      <td>1</td>\n",
       "      <td>0</td>\n",
       "      <td>1</td>\n",
       "      <td>True</td>\n",
       "      <td>True</td>\n",
       "      <td>4</td>\n",
       "      <td>False</td>\n",
       "    </tr>\n",
       "    <tr>\n",
       "      <th>3</th>\n",
       "      <td>4</td>\n",
       "      <td>Germany</td>\n",
       "      <td>Female</td>\n",
       "      <td>4</td>\n",
       "      <td>1</td>\n",
       "      <td>3</td>\n",
       "      <td>0</td>\n",
       "      <td>True</td>\n",
       "      <td>True</td>\n",
       "      <td>4</td>\n",
       "      <td>True</td>\n",
       "    </tr>\n",
       "    <tr>\n",
       "      <th>4</th>\n",
       "      <td>5</td>\n",
       "      <td>Spain</td>\n",
       "      <td>Female</td>\n",
       "      <td>8</td>\n",
       "      <td>1</td>\n",
       "      <td>0</td>\n",
       "      <td>0</td>\n",
       "      <td>True</td>\n",
       "      <td>False</td>\n",
       "      <td>5</td>\n",
       "      <td>False</td>\n",
       "    </tr>\n",
       "  </tbody>\n",
       "</table>\n",
       "</div>"
      ],
      "text/plain": [
       "   CreditScore Geography  Gender  Age  Tenure  Balance  NumOfProducts   \n",
       "0            7    France    Male    1       0        5              0  \\\n",
       "1            2    France  Female    1       5        5              0   \n",
       "2            2    France    Male    6       1        0              1   \n",
       "3            4   Germany  Female    4       1        3              0   \n",
       "4            5     Spain  Female    8       1        0              0   \n",
       "\n",
       "   HasCrCard  IsActiveMember  EstimatedSalary  Exited  \n",
       "0       True           False                1   False  \n",
       "1      False            True                5   False  \n",
       "2       True            True                4   False  \n",
       "3       True            True                4    True  \n",
       "4       True           False                5   False  "
      ]
     },
     "metadata": {},
     "output_type": "display_data"
    }
   ],
   "source": [
    "# Convert dataframe to numpy array\n",
    "df_train = pd.read_csv(train_full_filename)\n",
    "df_test = pd.read_csv(test_full_filename)\n",
    "display(df_train.dtypes)\n",
    "display(df_train.head(5))"
   ]
  },
  {
   "cell_type": "code",
   "execution_count": 4,
   "metadata": {},
   "outputs": [
    {
     "data": {
      "text/plain": [
       "CreditScore        int64\n",
       "Geography          int64\n",
       "Gender             int64\n",
       "Age                int64\n",
       "Tenure             int64\n",
       "Balance            int64\n",
       "NumOfProducts      int64\n",
       "HasCrCard          int64\n",
       "IsActiveMember     int64\n",
       "EstimatedSalary    int64\n",
       "Exited             int64\n",
       "dtype: object"
      ]
     },
     "metadata": {},
     "output_type": "display_data"
    },
    {
     "data": {
      "text/html": [
       "<div>\n",
       "<style scoped>\n",
       "    .dataframe tbody tr th:only-of-type {\n",
       "        vertical-align: middle;\n",
       "    }\n",
       "\n",
       "    .dataframe tbody tr th {\n",
       "        vertical-align: top;\n",
       "    }\n",
       "\n",
       "    .dataframe thead th {\n",
       "        text-align: right;\n",
       "    }\n",
       "</style>\n",
       "<table border=\"1\" class=\"dataframe\">\n",
       "  <thead>\n",
       "    <tr style=\"text-align: right;\">\n",
       "      <th></th>\n",
       "      <th>CreditScore</th>\n",
       "      <th>Geography</th>\n",
       "      <th>Gender</th>\n",
       "      <th>Age</th>\n",
       "      <th>Tenure</th>\n",
       "      <th>Balance</th>\n",
       "      <th>NumOfProducts</th>\n",
       "      <th>HasCrCard</th>\n",
       "      <th>IsActiveMember</th>\n",
       "      <th>EstimatedSalary</th>\n",
       "      <th>Exited</th>\n",
       "    </tr>\n",
       "  </thead>\n",
       "  <tbody>\n",
       "    <tr>\n",
       "      <th>0</th>\n",
       "      <td>7</td>\n",
       "      <td>0</td>\n",
       "      <td>1</td>\n",
       "      <td>1</td>\n",
       "      <td>0</td>\n",
       "      <td>5</td>\n",
       "      <td>0</td>\n",
       "      <td>1</td>\n",
       "      <td>0</td>\n",
       "      <td>1</td>\n",
       "      <td>0</td>\n",
       "    </tr>\n",
       "    <tr>\n",
       "      <th>1</th>\n",
       "      <td>2</td>\n",
       "      <td>0</td>\n",
       "      <td>0</td>\n",
       "      <td>1</td>\n",
       "      <td>5</td>\n",
       "      <td>5</td>\n",
       "      <td>0</td>\n",
       "      <td>0</td>\n",
       "      <td>1</td>\n",
       "      <td>5</td>\n",
       "      <td>0</td>\n",
       "    </tr>\n",
       "    <tr>\n",
       "      <th>2</th>\n",
       "      <td>2</td>\n",
       "      <td>0</td>\n",
       "      <td>1</td>\n",
       "      <td>6</td>\n",
       "      <td>1</td>\n",
       "      <td>0</td>\n",
       "      <td>1</td>\n",
       "      <td>1</td>\n",
       "      <td>1</td>\n",
       "      <td>4</td>\n",
       "      <td>0</td>\n",
       "    </tr>\n",
       "    <tr>\n",
       "      <th>3</th>\n",
       "      <td>4</td>\n",
       "      <td>1</td>\n",
       "      <td>0</td>\n",
       "      <td>4</td>\n",
       "      <td>1</td>\n",
       "      <td>3</td>\n",
       "      <td>0</td>\n",
       "      <td>1</td>\n",
       "      <td>1</td>\n",
       "      <td>4</td>\n",
       "      <td>1</td>\n",
       "    </tr>\n",
       "    <tr>\n",
       "      <th>4</th>\n",
       "      <td>5</td>\n",
       "      <td>2</td>\n",
       "      <td>0</td>\n",
       "      <td>8</td>\n",
       "      <td>1</td>\n",
       "      <td>0</td>\n",
       "      <td>0</td>\n",
       "      <td>1</td>\n",
       "      <td>0</td>\n",
       "      <td>5</td>\n",
       "      <td>0</td>\n",
       "    </tr>\n",
       "  </tbody>\n",
       "</table>\n",
       "</div>"
      ],
      "text/plain": [
       "   CreditScore  Geography  Gender  Age  Tenure  Balance  NumOfProducts   \n",
       "0            7          0       1    1       0        5              0  \\\n",
       "1            2          0       0    1       5        5              0   \n",
       "2            2          0       1    6       1        0              1   \n",
       "3            4          1       0    4       1        3              0   \n",
       "4            5          2       0    8       1        0              0   \n",
       "\n",
       "   HasCrCard  IsActiveMember  EstimatedSalary  Exited  \n",
       "0          1               0                1       0  \n",
       "1          0               1                5       0  \n",
       "2          1               1                4       0  \n",
       "3          1               1                4       1  \n",
       "4          1               0                5       0  "
      ]
     },
     "metadata": {},
     "output_type": "display_data"
    }
   ],
   "source": [
    "for col in df_train.columns:\n",
    "    unique_vals = sorted(df_train[col].unique())\n",
    "    data_to_num = {data: num for num, data in enumerate(unique_vals)}\n",
    "    df_train[col] = df_train[col].map(data_to_num)\n",
    "\n",
    "for col in df_test.columns:\n",
    "    unique_vals = sorted(df_test[col].unique())\n",
    "    data_to_num = {data: num for num, data in enumerate(unique_vals)}\n",
    "    df_test[col] = df_test[col].map(data_to_num)\n",
    "\n",
    "display(df_train.dtypes)\n",
    "display(df_train.head(5))"
   ]
  },
  {
   "attachments": {},
   "cell_type": "markdown",
   "metadata": {},
   "source": [
    "## Evaluate Naive Bayes Classifier using Exited Markov Blanket"
   ]
  },
  {
   "cell_type": "code",
   "execution_count": 5,
   "metadata": {},
   "outputs": [],
   "source": [
    "all_results = pd.DataFrame()"
   ]
  },
  {
   "cell_type": "code",
   "execution_count": 6,
   "metadata": {},
   "outputs": [],
   "source": [
    "def filter_nb(df_train: pd.DataFrame, df_test: pd.DataFrame, markov_blanket: List[str]) -> Tuple[np.ndarray, np.ndarray]:\n",
    "    # Filter Markov Blanket: drop all columns not in the Markov Blanket of 'Exited'\n",
    "    df_train = df_train.filter(markov_blanket + [\"Exited\"])\n",
    "\n",
    "    # 5-fold cross validation of MultinomialNB\n",
    "    X_train = df_train.drop('Exited', axis=1).to_numpy()\n",
    "    y_train = df_train['Exited'].to_numpy()\n",
    "    train_scores = cross_val_score(MultinomialNB(), X_train, y_train)\n",
    "\n",
    "    # Filter Markov Blanket: drop all columns not in the Markov Blanket of 'Exited'\n",
    "    df_test = df_test.filter(markov_blanket + [\"Exited\"])\n",
    "    X_test = df_test.drop('Exited', axis=1).to_numpy()\n",
    "    y_test = df_test['Exited'].to_numpy()\n",
    "\n",
    "    # Train on training data and then test on testing data\n",
    "    mnb = MultinomialNB()\n",
    "    mnb.fit(X_train, y_train)\n",
    "    y_pred = mnb.predict(X_test)\n",
    "    test_score = accuracy_score(y_test, y_pred)\n",
    "\n",
    "\n",
    "    return train_scores, test_score\n",
    "\n",
    "def save_scores(algo: str, train_accs: np.ndarray, test_acc: float, all_results: pd.DataFrame) -> pd.DataFrame:\n",
    "    new_row = pd.DataFrame()\n",
    "    new_row[\"algorithm\"] = [algo]\n",
    "\n",
    "    new_row[\"test_acc\"] = [test_acc]\n",
    "\n",
    "    new_row[\"train_acc_avg\"] = [np.mean(train_accs)]\n",
    "    new_row[\"train_accs_var\"] = [np.var(train_accs)]\n",
    "\n",
    "    for i, score in enumerate(train_accs):\n",
    "        new_row[f\"train_acc_{i+1}\"] = [score]\n",
    "\n",
    "    all_results = pd.concat([all_results, new_row], ignore_index=True)\n",
    "    return all_results"
   ]
  },
  {
   "cell_type": "code",
   "execution_count": 7,
   "metadata": {},
   "outputs": [
    {
     "name": "stdout",
     "output_type": "stream",
     "text": [
      "Cross Validation Acc: [0.815    0.809375 0.806875 0.813125 0.800625]\n",
      "Test Acc: 0.8115\n"
     ]
    }
   ],
   "source": [
    "# All variables\n",
    "all_vars = df_train.columns.to_list()\n",
    "all_vars.remove('Exited')\n",
    "scores, acc = filter_nb(df_train, df_test, all_vars)\n",
    "print(f\"Cross Validation Acc: {scores}\\nTest Acc: {acc}\")\n",
    "\n",
    "all_results = save_scores(\"None\", scores, acc, all_results)"
   ]
  },
  {
   "cell_type": "code",
   "execution_count": 8,
   "metadata": {},
   "outputs": [
    {
     "name": "stdout",
     "output_type": "stream",
     "text": [
      "Cross Validation Acc: [0.821875 0.80875  0.81625  0.818125 0.813125]\n",
      "Test Acc: 0.8265\n"
     ]
    }
   ],
   "source": [
    "# PC Markov Blanket\n",
    "pc_blanket = ['Age', 'IsActiveMember', 'Gender', 'Balance', 'Geography', 'NumOfProducts']\n",
    "scores, acc = filter_nb(df_train, df_test, pc_blanket)\n",
    "print(f\"Cross Validation Acc: {scores}\\nTest Acc: {acc}\")\n",
    "\n",
    "all_results = save_scores(\"PC\", scores, acc, all_results)"
   ]
  },
  {
   "cell_type": "code",
   "execution_count": 9,
   "metadata": {},
   "outputs": [
    {
     "name": "stdout",
     "output_type": "stream",
     "text": [
      "Cross Validation Acc: [0.821875 0.80875  0.81625  0.818125 0.813125]\n",
      "Test Acc: 0.8265\n"
     ]
    }
   ],
   "source": [
    "# FCI Markov Blanket\n",
    "fci_blanket = ['Age', 'IsActiveMember', 'Gender', 'Balance', 'Geography', 'NumOfProducts']\n",
    "scores, acc = filter_nb(df_train, df_test, fci_blanket)\n",
    "print(f\"Cross Validation Acc: {scores}\\nTest Acc: {acc}\")\n",
    "\n",
    "all_results = save_scores(\"FCI\", scores, acc, all_results)"
   ]
  },
  {
   "cell_type": "code",
   "execution_count": 10,
   "metadata": {},
   "outputs": [
    {
     "name": "stdout",
     "output_type": "stream",
     "text": [
      "Cross Validation Acc: [0.8225   0.808125 0.816875 0.814375 0.81375 ]\n",
      "Test Acc: 0.8255\n"
     ]
    }
   ],
   "source": [
    "# GES Markov Blanket\n",
    "ges_blanket = ['Age', 'IsActiveMember', 'Gender', 'Geography', 'NumOfProducts']\n",
    "scores, acc = filter_nb(df_train, df_test, ges_blanket)\n",
    "print(f\"Cross Validation Acc: {scores}\\nTest Acc: {acc}\")\n",
    "\n",
    "all_results = save_scores(\"GES\", scores, acc, all_results)"
   ]
  },
  {
   "attachments": {},
   "cell_type": "markdown",
   "metadata": {},
   "source": [
    "## Evaluate using Parents"
   ]
  },
  {
   "cell_type": "code",
   "execution_count": 11,
   "metadata": {},
   "outputs": [
    {
     "name": "stdout",
     "output_type": "stream",
     "text": [
      "Cross Validation Acc: [0.7925   0.7925   0.791875 0.791875 0.791875]\n",
      "Test Acc: 0.813\n"
     ]
    }
   ],
   "source": [
    "# GES Markov Blanket\n",
    "ges_parents = ['Age', 'IsActiveMember']\n",
    "scores, acc = filter_nb(df_train, df_test, ges_parents)\n",
    "print(f\"Cross Validation Acc: {scores}\\nTest Acc: {acc}\")\n",
    "\n",
    "all_results = save_scores(\"GES (parents)\", scores, acc, all_results)"
   ]
  },
  {
   "cell_type": "code",
   "execution_count": 12,
   "metadata": {},
   "outputs": [],
   "source": [
    "all_results.to_csv(\"NaiveBayes_results.csv\", index=False)"
   ]
  }
 ],
 "metadata": {
  "kernelspec": {
   "display_name": "causal_env",
   "language": "python",
   "name": "python3"
  },
  "language_info": {
   "codemirror_mode": {
    "name": "ipython",
    "version": 3
   },
   "file_extension": ".py",
   "mimetype": "text/x-python",
   "name": "python",
   "nbconvert_exporter": "python",
   "pygments_lexer": "ipython3",
   "version": "3.11.0"
  },
  "orig_nbformat": 4
 },
 "nbformat": 4,
 "nbformat_minor": 2
}
